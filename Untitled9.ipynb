{
  "nbformat": 4,
  "nbformat_minor": 0,
  "metadata": {
    "colab": {
      "provenance": []
    },
    "kernelspec": {
      "name": "python3",
      "display_name": "Python 3"
    },
    "language_info": {
      "name": "python"
    }
  },
  "cells": [
    {
      "cell_type": "code",
      "source": [
        "import pandas as pd\n",
        "\n",
        "df = pd.read_csv('Mall_Customers.csv')\n",
        "\n",
        "df.columns = ['customer_id', 'gender', 'age', 'annual_income_k', 'spending_score']\n",
        "\n",
        "print(\"Missing values before cleaning:\")\n",
        "print(df.isnull().sum())\n",
        "\n",
        "df.dropna(inplace=True)\n",
        "df.drop_duplicates(inplace=True)\n",
        "\n",
        "df['gender'] = df['gender'].str.lower().str.strip()\n",
        "df['gender_encoded'] = df['gender'].map({'male': 0, 'female': 1})\n",
        "\n",
        "df['age'] = df['age'].astype(int)\n",
        "df['annual_income_k'] = df['annual_income_k'].astype(int)\n",
        "df['spending_score'] = df['spending_score'].astype(int)\n",
        "\n",
        "print(\"Cleaned Dataset Snapshot:\")\n",
        "print(df.head())\n",
        "\n",
        "df.to_csv('mall_customers_cleaned.csv', index=False)\n"
      ],
      "metadata": {
        "colab": {
          "base_uri": "https://localhost:8080/"
        },
        "id": "y0JiT_uYU-s-",
        "outputId": "71eb22bd-c121-4c7d-bcf0-a2b7e0281221"
      },
      "execution_count": 2,
      "outputs": [
        {
          "output_type": "stream",
          "name": "stdout",
          "text": [
            "Missing values before cleaning:\n",
            "customer_id        0\n",
            "gender             0\n",
            "age                0\n",
            "annual_income_k    0\n",
            "spending_score     0\n",
            "dtype: int64\n",
            "Cleaned Dataset Snapshot:\n",
            "   customer_id  gender  age  annual_income_k  spending_score  gender_encoded\n",
            "0            1    male   19               15              39               0\n",
            "1            2    male   21               15              81               0\n",
            "2            3  female   20               16               6               1\n",
            "3            4  female   23               16              77               1\n",
            "4            5  female   31               17              40               1\n"
          ]
        }
      ]
    }
  ]
}